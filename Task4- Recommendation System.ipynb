{
 "cells": [
  {
   "cell_type": "code",
   "execution_count": 5,
   "id": "888d8bf7-4b9e-4475-9d06-c027cdc83ff4",
   "metadata": {},
   "outputs": [
    {
     "name": "stdout",
     "output_type": "stream",
     "text": [
      "\n",
      "🎯 Recommendations for User 1:\n",
      "                             title  predicted_rating\n",
      "                  Die Hard (1988)          4.186452\n",
      "   Godfather: Part II, The (1974)          3.954716\n",
      "            Godfather, The (1972)          3.830065\n",
      "Terminator 2: Judgment Day (1991)          3.623493\n",
      "                    Aliens (1986)          3.008915\n",
      "\n",
      "📈 RMSE: 2.1535\n"
     ]
    }
   ],
   "source": [
    "import pandas as pd\n",
    "import numpy as np\n",
    "from sklearn.decomposition import TruncatedSVD\n",
    "from sklearn.metrics import mean_squared_error\n",
    "from math import sqrt\n",
    "\n",
    "# 1. Load data\n",
    "ratings = pd.read_csv(\"ratings.csv\")  l\n",
    "movies = pd.read_csv(\"movies.csv\")\n",
    "\n",
    "# 2. Filter popular items and active users (threshold >20 ratings)\n",
    "active_users = ratings['userId'].value_counts()[lambda x: x > 20].index\n",
    "popular_movies = ratings['movieId'].value_counts()[lambda x: x > 20].index\n",
    "ratings = ratings[ratings['userId'].isin(active_users) & ratings['movieId'].isin(popular_movies)]\n",
    "\n",
    "# 3. Pivot to user–item matrix\n",
    "mat = ratings.pivot(index='userId', columns='movieId', values='rating').fillna(0)\n",
    "\n",
    "# 4. Apply Truncated SVD\n",
    "svd = TruncatedSVD(n_components=20, random_state=42)\n",
    "U = svd.fit_transform(mat)\n",
    "Vt = svd.components_\n",
    "predicted = np.dot(U, Vt)\n",
    "pred_df = pd.DataFrame(predicted, index=mat.index, columns=mat.columns)\n",
    "\n",
    "# 5. Recommend top-5 movies for a sample user\n",
    "def recommend(user_id, top_n=5):\n",
    "    user_ratings = mat.loc[user_id]\n",
    "    user_preds = pred_df.loc[user_id]\n",
    "    unseen = user_preds[user_ratings == 0]\n",
    "    top = unseen.sort_values(ascending=False).head(top_n)\n",
    "    # Map movieId to title\n",
    "    titles = movies.set_index('movieId').loc[top.index]['title']\n",
    "    return pd.DataFrame({'title': titles, 'predicted_rating': top.values})\n",
    "\n",
    "sample_user = mat.index[0]\n",
    "recs = recommend(sample_user)\n",
    "print(f\"\\n🎯 Recommendations for User {sample_user}:\\n\", recs.to_string(index=False))\n",
    "\n",
    "# 6. Compute RMSE\n",
    "mask = mat.values != 0\n",
    "rmse = sqrt(mean_squared_error(mat.values[mask], pred_df.values[mask]))\n",
    "print(f\"\\n📈 RMSE: {rmse:.4f}\")\n"
   ]
  },
  {
   "cell_type": "code",
   "execution_count": null,
   "id": "7b3525eb-2f33-4072-87b5-bbb4469b7f03",
   "metadata": {},
   "outputs": [],
   "source": []
  }
 ],
 "metadata": {
  "kernelspec": {
   "display_name": "Python 3 (ipykernel)",
   "language": "python",
   "name": "python3"
  },
  "language_info": {
   "codemirror_mode": {
    "name": "ipython",
    "version": 3
   },
   "file_extension": ".py",
   "mimetype": "text/x-python",
   "name": "python",
   "nbconvert_exporter": "python",
   "pygments_lexer": "ipython3",
   "version": "3.13.2"
  }
 },
 "nbformat": 4,
 "nbformat_minor": 5
}
